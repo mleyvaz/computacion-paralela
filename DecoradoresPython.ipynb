{
  "nbformat": 4,
  "nbformat_minor": 0,
  "metadata": {
    "colab": {
      "name": "DecoradoresPython",
      "provenance": [],
      "authorship_tag": "ABX9TyPDVkvT6sTLX/DdgOYgl+LH",
      "include_colab_link": true
    },
    "kernelspec": {
      "name": "python3",
      "display_name": "Python 3"
    },
    "language_info": {
      "name": "python"
    }
  },
  "cells": [
    {
      "cell_type": "markdown",
      "metadata": {
        "id": "view-in-github",
        "colab_type": "text"
      },
      "source": [
        "<a href=\"https://colab.research.google.com/github/mleyvaz/computacion-paralela/blob/main/DecoradoresPython.ipynb\" target=\"_parent\"><img src=\"https://colab.research.google.com/assets/colab-badge.svg\" alt=\"Open In Colab\"/></a>"
      ]
    },
    {
      "cell_type": "markdown",
      "metadata": {
        "id": "-oJkTviJ4gzX"
      },
      "source": [
        " Decorador no es más que una función la cual toma como input una función y asu vez retorna otra función. "
      ]
    },
    {
      "cell_type": "code",
      "metadata": {
        "id": "0dIyLpdg4zQc"
      },
      "source": [
        "# Decorrador sencillo "
      ],
      "execution_count": 18,
      "outputs": []
    },
    {
      "cell_type": "code",
      "metadata": {
        "id": "FLUzlj0s4fxO"
      },
      "source": [
        "def funcion_a(funcion_b):\n",
        "    def funcion_c():\n",
        "        print('Antes de la ejecución de la función a decorar')\n",
        "        funcion_b()\n",
        "        print('Después de la ejecución de la función a decorar')\n",
        "\n",
        "    return funcion_c\n",
        "    "
      ],
      "execution_count": 19,
      "outputs": []
    },
    {
      "cell_type": "markdown",
      "metadata": {
        "id": "sEcBm_gg49Fp"
      },
      "source": [
        "Para decorar una función basta con colocar, en su parte superior de dicha función, el decorador con el prefijo @."
      ]
    },
    {
      "cell_type": "code",
      "metadata": {
        "id": "hi3afTbg4-pG"
      },
      "source": [
        "@funcion_a\n",
        "def saludar():\n",
        "    print('Hola mundo!!')"
      ],
      "execution_count": 20,
      "outputs": []
    },
    {
      "cell_type": "code",
      "metadata": {
        "colab": {
          "base_uri": "https://localhost:8080/"
        },
        "id": "9GBB-jBz5WLD",
        "outputId": "d2ac639c-c178-4f35-9233-ae28105cd686"
      },
      "source": [
        "decorador = saludar()"
      ],
      "execution_count": 21,
      "outputs": [
        {
          "output_type": "stream",
          "text": [
            "Antes de la ejecución de la función a decorar\n",
            "Hola mundo!!\n",
            "Después de la ejecución de la función a decorar\n"
          ],
          "name": "stdout"
        }
      ]
    },
    {
      "cell_type": "markdown",
      "metadata": {
        "id": "ntpGjLEm5xiy"
      },
      "source": [
        "Una función wraper recibir argumentos y a su vez debe retornar algún valor? en estos casos haremos uso de los parámetros args y kwargs."
      ]
    },
    {
      "cell_type": "code",
      "metadata": {
        "id": "QkErxfos5_O8"
      },
      "source": [
        "def funcion_a(funcion_b):\n",
        "    def funcion_c(*args, **kwargs):\n",
        "        print('Antes de la ejecución de la función a decorar')\n",
        "        result = funcion_b(*args, **kwargs)\n",
        "        print('Después de la ejecución de la función a decorar')    \n",
        "\n",
        "        return result\n",
        "\n",
        "    return funcion_c\n",
        "\n",
        "@funcion_a\n",
        "def suma(a, b):\n",
        "    return a + b"
      ],
      "execution_count": 22,
      "outputs": []
    },
    {
      "cell_type": "code",
      "metadata": {
        "colab": {
          "base_uri": "https://localhost:8080/"
        },
        "id": "UzBTjKeK6LTP",
        "outputId": "86fc468a-e18d-4f7f-f02a-60edd8469ed8"
      },
      "source": [
        "decorador = funcion_a(suma)\n",
        "decorador(10, 20) "
      ],
      "execution_count": 23,
      "outputs": [
        {
          "output_type": "stream",
          "text": [
            "Antes de la ejecución de la función a decorar\n",
            "Antes de la ejecución de la función a decorar\n",
            "Después de la ejecución de la función a decorar\n",
            "Después de la ejecución de la función a decorar\n"
          ],
          "name": "stdout"
        },
        {
          "output_type": "execute_result",
          "data": {
            "text/plain": [
              "30"
            ]
          },
          "metadata": {
            "tags": []
          },
          "execution_count": 23
        }
      ]
    },
    {
      "cell_type": "markdown",
      "metadata": {
        "id": "HkU1c_mm6ubw"
      },
      "source": [
        "Ejercicio "
      ]
    },
    {
      "cell_type": "code",
      "metadata": {
        "colab": {
          "base_uri": "https://localhost:8080/"
        },
        "id": "4CtfpxCt6t41",
        "outputId": "3be826ae-9b7d-4be5-945c-b1a7d9b78f9a"
      },
      "source": [
        "def measure_time(function):\n",
        "    def wrapper(*args, **kwargs):\n",
        "        import time\n",
        "\n",
        "        start = time.time()\n",
        "        result = function(*args, **kwargs)\n",
        "        total = time.time() - start\n",
        "        print(total, 'seconds' )\n",
        "        return result\n",
        "\n",
        "    return wrapper\n",
        "\n",
        "\n",
        "@measure_time\n",
        "def suma(a, b):\n",
        "    import time\n",
        "    time.sleep(1)\n",
        "    return a + b\n",
        "\n",
        "\n",
        "print(suma(10, 20))"
      ],
      "execution_count": 25,
      "outputs": [
        {
          "output_type": "stream",
          "text": [
            "1.001107931137085 seconds\n",
            "30\n"
          ],
          "name": "stdout"
        }
      ]
    },
    {
      "cell_type": "markdown",
      "metadata": {
        "id": "eXPy31ez7Aug"
      },
      "source": [
        "# # Ejercicio:  defina un decorador que muestra tiempo de ejecución en milisegundos y  con funciones distintas  \n",
        "import time\n",
        "milliseconds = int(round(time.time() * 1000))\n",
        "print(milliseconds)"
      ]
    }
  ]
}