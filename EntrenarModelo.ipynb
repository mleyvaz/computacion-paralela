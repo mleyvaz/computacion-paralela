{
  "nbformat": 4,
  "nbformat_minor": 0,
  "metadata": {
    "colab": {
      "name": "EntrenarModelo.ipynb",
      "provenance": [],
      "authorship_tag": "ABX9TyOBsIjsTrWrBgrY/7aCVF10",
      "include_colab_link": true
    },
    "kernelspec": {
      "name": "python3",
      "display_name": "Python 3"
    }
  },
  "cells": [
    {
      "cell_type": "markdown",
      "metadata": {
        "id": "view-in-github",
        "colab_type": "text"
      },
      "source": [
        "<a href=\"https://colab.research.google.com/github/mleyvaz/computacion-paralela/blob/main/EntrenarModelo.ipynb\" target=\"_parent\"><img src=\"https://colab.research.google.com/assets/colab-badge.svg\" alt=\"Open In Colab\"/></a>"
      ]
    },
    {
      "cell_type": "code",
      "metadata": {
        "id": "1QOkNJIQAake"
      },
      "source": [
        "!pip install pycaret"
      ],
      "execution_count": null,
      "outputs": []
    },
    {
      "cell_type": "code",
      "metadata": {
        "id": "7resFtv__jXA"
      },
      "source": [
        "\r\n",
        "import pandas as pd \r\n",
        "data=pd.read_csv(\"https://raw.githubusercontent.com/pycaret/powerbi-clustering/master/clustering.csv\")\r\n"
      ],
      "execution_count": null,
      "outputs": []
    },
    {
      "cell_type": "code",
      "metadata": {
        "id": "dC_Ig4AyBWWO"
      },
      "source": [
        "exp_clu101 = setup(data, normalize = True, \r\n",
        "                   ignore_features = ['Country'],\r\n",
        "                   session_id = 123)"
      ],
      "execution_count": null,
      "outputs": []
    },
    {
      "cell_type": "code",
      "metadata": {
        "id": "RRIO9ogoA4Bm"
      },
      "source": [
        "from pycaret.clustering import *\r\n",
        "kmeans = create_model('kmeans', num_clusters = 6)\r\n"
      ],
      "execution_count": null,
      "outputs": []
    },
    {
      "cell_type": "code",
      "metadata": {
        "id": "YbyZqUVjBrLG"
      },
      "source": [
        "kmean_results = assign_model(kmeans)\r\n",
        "kmean_results.head()"
      ],
      "execution_count": null,
      "outputs": []
    },
    {
      "cell_type": "code",
      "metadata": {
        "id": "67OgGgibB4Kv"
      },
      "source": [
        "plot_model(kmeans)"
      ],
      "execution_count": null,
      "outputs": []
    },
    {
      "cell_type": "code",
      "metadata": {
        "id": "5J_cUOy_BHrw"
      },
      "source": [
        "save_model(kmeans,'Final Kmeans Model 18Feb2021')"
      ],
      "execution_count": null,
      "outputs": []
    },
    {
      "cell_type": "markdown",
      "metadata": {
        "id": "fj2XignZCYOn"
      },
      "source": [
        "Cargar en PowerBi\r\n",
        "from pycaret.clustering import *\r\n",
        "dataset = predict_model('ubicacion, data = dataset)"
      ]
    },
    {
      "cell_type": "markdown",
      "metadata": {
        "id": "YntnuAksCoEU"
      },
      "source": [
        "Cargar"
      ]
    },
    {
      "cell_type": "code",
      "metadata": {
        "id": "-yo6QftfCaRW"
      },
      "source": [
        "saved_kmeans = load_model('Final Kmeans Model 18Feb2021')"
      ],
      "execution_count": null,
      "outputs": []
    },
    {
      "cell_type": "code",
      "metadata": {
        "id": "mH87nvq-CvFq"
      },
      "source": [
        "new_prediction = predict_model(saved_kmeans, data=data)\r\n",
        "new_prediction.head()"
      ],
      "execution_count": null,
      "outputs": []
    }
  ]
}