{
  "nbformat": 4,
  "nbformat_minor": 0,
  "metadata": {
    "colab": {
      "name": "Numba.ipynb",
      "provenance": [],
      "authorship_tag": "ABX9TyPMnn26IugnayCXaq/k/1nn",
      "include_colab_link": true
    },
    "kernelspec": {
      "name": "python3",
      "display_name": "Python 3"
    },
    "language_info": {
      "name": "python"
    }
  },
  "cells": [
    {
      "cell_type": "markdown",
      "metadata": {
        "id": "view-in-github",
        "colab_type": "text"
      },
      "source": [
        "<a href=\"https://colab.research.google.com/github/mleyvaz/computacion-paralela/blob/main/Numba.ipynb\" target=\"_parent\"><img src=\"https://colab.research.google.com/assets/colab-badge.svg\" alt=\"Open In Colab\"/></a>"
      ]
    },
    {
      "cell_type": "markdown",
      "metadata": {
        "id": "T6MBjfLp9GdK"
      },
      "source": [
        "# Perfilado s de memoria\n",
        "El acto de comprobar sistemáticamente el rendimiento en diferentes condiciones se denomina benchmarking.\n",
        "Analizar qué partes de un programa contribuyen al rendimiento total e identificar posibles cuellos de botella es la elaboración de perfiles.\n",
        "Utilizaremos el paquete memory_profiler para hacer un seguimiento del uso de la memoria. Se puede instalar ejecutando el código siguiente en la consola:\n",
        "# Numba\n",
        "\n",
        "Numba facilita la creación de funciones aceleradas. Puedes utilizarlo con el decorador numba.jit.\n"
      ]
    },
    {
      "cell_type": "code",
      "metadata": {
        "colab": {
          "base_uri": "https://localhost:8080/"
        },
        "id": "pDQIUQsd1_nq",
        "outputId": "eaec449e-c133-46ef-e8df-cb200470d29f"
      },
      "source": [
        "pip install memory_profiler"
      ],
      "execution_count": null,
      "outputs": [
        {
          "output_type": "stream",
          "text": [
            "Requirement already satisfied: memory_profiler in /usr/local/lib/python3.7/dist-packages (0.58.0)\n",
            "Requirement already satisfied: psutil in /usr/local/lib/python3.7/dist-packages (from memory_profiler) (5.4.8)\n"
          ],
          "name": "stdout"
        }
      ]
    },
    {
      "cell_type": "code",
      "metadata": {
        "id": "oYz10bqj6WMz"
      },
      "source": [
        "import numpy as np\n",
        "import dask.array as da\n",
        "from memory_profiler import memory_usage\n",
        "import matplotlib.pyplot as plt\n",
        "import numba"
      ],
      "execution_count": null,
      "outputs": []
    },
    {
      "cell_type": "code",
      "metadata": {
        "id": "Mo37C--N6YlO"
      },
      "source": [
        "# Numpy\n",
        "def sum_with_numpy():\n",
        "    # Serial implementation\n",
        "    np.arange(10**7).sum()\n",
        "# Dask\n",
        "def sum_with_dask():\n",
        "    # Parallel implementation\n",
        "    work = da.arange(10**7).sum()\n",
        "    work.compute()\n",
        "# Numba \n",
        "\n",
        "@jit\n",
        "def sum_with_numba():\n",
        "    \"\"\"Compute the sum of the numbers in the range [0, a).\"\"\"\n",
        "    x = 0\n",
        "    for i in range(10**7):\n",
        "        x += i\n",
        "    return x"
      ],
      "execution_count": null,
      "outputs": []
    },
    {
      "cell_type": "code",
      "metadata": {
        "colab": {
          "base_uri": "https://localhost:8080/"
        },
        "id": "EIVSbU6M6e01",
        "outputId": "ded1a6de-8c80-43ad-a245-f895af2c4e3c"
      },
      "source": [
        "timeDask = %timeit -o  sum_with_dask()\n",
        "time = %timeit -o  sum_with_numpy()\n",
        "\n",
        "print(f\"Tiempo Dask: {timeDask.best}s\")\n",
        "\n",
        "print(f\"Tiempo numpy: {time.best:.4f}s\")\n"
      ],
      "execution_count": null,
      "outputs": [
        {
          "output_type": "stream",
          "text": [
            "10 loops, best of 5: 23 ms per loop\n",
            "10 loops, best of 5: 19.6 ms per loop\n",
            "The slowest run took 485723.11 times longer than the fastest. This could mean that an intermediate result is being cached.\n",
            "10000000 loops, best of 5: 108 ns per loop\n",
            "Tiempo Dask: 0.023017832599998657s\n",
            "Tiempo numpy: 0.0196s\n",
            "Tiempo numpy: 0.0000s\n"
          ],
          "name": "stdout"
        }
      ]
    },
    {
      "cell_type": "code",
      "metadata": {
        "colab": {
          "base_uri": "https://localhost:8080/",
          "height": 290
        },
        "id": "Gx4pUOvI8B-M",
        "outputId": "793da495-37e2-4089-81f7-7f654e407264"
      },
      "source": [
        "memory_numpy = memory_usage(sum_with_numpy, interval=0.01)\n",
        "memory_dask = memory_usage(sum_with_dask, interval=0.01)\n",
        "\n",
        "\n",
        "# Plot results\n",
        "plt.plot(memory_numpy, label='numpy')\n",
        "plt.plot(memory_dask, label='dask')\n",
        "\n",
        "plt.xlabel('Time step')\n",
        "plt.ylabel('Memory / MB')\n",
        "plt.legend()\n",
        "plt.show()"
      ],
      "execution_count": null,
      "outputs": [
        {
          "output_type": "display_data",
          "data": {
            "image/png": "[encoded data removed]",
            "text/plain": [
              "<Figure size 432x288 with 1 Axes>"
            ]
          },
          "metadata": {
            "tags": [],
            "needs_background": "light"
          }
        }
      ]
    },
    {
      "cell_type": "markdown",
      "metadata": {
        "id": "fEEWKMRW9KBa"
      },
      "source": [
        "# Ejercicio 1 Realice el perfilado de memoria  de la función utilizando numba y calcule tiempo de ejecución. \n",
        "# Ejercicio #2 Compare los resultados de una función sin y utilizando el modo @jit(nopython=True)\n"
      ]
    },
    {
      "cell_type": "markdown",
      "metadata": {
        "id": "bHSMazgyDl-f"
      },
      "source": [
        "Numba paralela \n",
        "Al establecer la opción paralela para jit() se habilita un pase de transformación de Numba que intenta paralelizar automáticamente y realizar otras optimizaciones en (parte de) una función. "
      ]
    },
    {
      "cell_type": "code",
      "metadata": {
        "id": "IVh1SgJZDoHC"
      },
      "source": [
        "\n",
        "@jit(nopython=True, parallel=True)\n",
        "def trace_numba_parallel(a):\n",
        "    trace = 0.0\n",
        "    for i in range(a.shape[0]):\n",
        "        trace += a[i, i] \n",
        "    return a + trace  \n",
        "\n",
        "\n",
        "\n",
        "\n",
        "\n"
      ],
      "execution_count": 75,
      "outputs": []
    },
    {
      "cell_type": "markdown",
      "metadata": {
        "id": "wBkk6BjtIjI_"
      },
      "source": [
        "Ejercicio Compare  el tiempo de ejecucion y perfile de la anterior funcion para arreglo  de 1000x1000\n",
        "\n",
        "* 2-Numba @jit\n",
        "* 3-Numba @jit(nopython=True)\n",
        "* 4-@jit(nopython=True, parallel=True)"
      ]
    },
    {
      "cell_type": "code",
      "metadata": {
        "id": "Io5rehk1InJX"
      },
      "source": [
        "large_x = np.arange(1000000).reshape(1000, 1000)"
      ],
      "execution_count": null,
      "outputs": []
    }
  ]
}