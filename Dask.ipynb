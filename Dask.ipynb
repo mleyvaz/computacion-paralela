{
  "nbformat": 4,
  "nbformat_minor": 0,
  "metadata": {
    "colab": {
      "name": "Dask",
      "provenance": [],
      "collapsed_sections": [],
      "authorship_tag": "ABX9TyO4EFHA7L47c8e0WhWnzrZK",
      "include_colab_link": true
    },
    "kernelspec": {
      "name": "python3",
      "display_name": "Python 3"
    },
    "accelerator": "GPU"
  },
  "cells": [
    {
      "cell_type": "markdown",
      "metadata": {
        "id": "view-in-github",
        "colab_type": "text"
      },
      "source": [
        "<a href=\"https://colab.research.google.com/github/mleyvaz/computacion-paralela/blob/main/Dask.ipynb\" target=\"_parent\"><img src=\"https://colab.research.google.com/assets/colab-badge.svg\" alt=\"Open In Colab\"/></a>"
      ]
    },
    {
      "cell_type": "markdown",
      "metadata": {
        "id": "vAeXez2jd1tv"
      },
      "source": [
        "# Maikel Leyva\n",
        "# Computación Paralela"
      ]
    },
    {
      "cell_type": "code",
      "metadata": {
        "id": "MP-d7UTmtIKo",
        "colab": {
          "base_uri": "https://localhost:8080/"
        },
        "outputId": "ae73b1fd-48fe-4c72-b31d-8faf1d4c9e9d"
      },
      "source": [
        "!pip install dask-cuda "
      ],
      "execution_count": null,
      "outputs": [
        {
          "output_type": "stream",
          "text": [
            "Collecting dask-cuda\n",
            "\u001b[?25l  Downloading https://files.pythonhosted.org/packages/a9/fc/bb6002a0dd85b38e5c1ea375c49d0f3773ef72a2fb6a3c50b50faf208fff/dask_cuda-0.16.0-py3-none-any.whl (47kB)\n",
            "\r\u001b[K     |██████▉                         | 10kB 25.4MB/s eta 0:00:01\r\u001b[K     |█████████████▊                  | 20kB 32.8MB/s eta 0:00:01\r\u001b[K     |████████████████████▌           | 30kB 17.4MB/s eta 0:00:01\r\u001b[K     |███████████████████████████▍    | 40kB 11.9MB/s eta 0:00:01\r\u001b[K     |████████████████████████████████| 51kB 4.5MB/s \n",
            "\u001b[?25hRequirement already satisfied: dask>=2.9.0 in /usr/local/lib/python3.6/dist-packages (from dask-cuda) (2.12.0)\n",
            "Collecting pynvml>=8.0.3\n",
            "  Downloading https://files.pythonhosted.org/packages/1b/1a/a25c143e1d2f873d67edf534b269d028dd3c20be69737cca56bf28911d02/pynvml-8.0.4-py3-none-any.whl\n",
            "Requirement already satisfied: numpy>=1.16.0 in /usr/local/lib/python3.6/dist-packages (from dask-cuda) (1.18.5)\n",
            "Requirement already satisfied: numba>=0.40.1 in /usr/local/lib/python3.6/dist-packages (from dask-cuda) (0.48.0)\n",
            "Collecting distributed>=2.18.0\n",
            "\u001b[?25l  Downloading https://files.pythonhosted.org/packages/88/38/d9f0e31c15de18cb124d1ed33cf9c99c84f05f251ff6767e7573c217725b/distributed-2.30.1-py3-none-any.whl (656kB)\n",
            "\u001b[K     |████████████████████████████████| 665kB 9.5MB/s \n",
            "\u001b[?25hRequirement already satisfied: llvmlite<0.32.0,>=0.31.0dev0 in /usr/local/lib/python3.6/dist-packages (from numba>=0.40.1->dask-cuda) (0.31.0)\n",
            "Requirement already satisfied: setuptools in /usr/local/lib/python3.6/dist-packages (from numba>=0.40.1->dask-cuda) (50.3.2)\n",
            "Requirement already satisfied: zict>=0.1.3 in /usr/local/lib/python3.6/dist-packages (from distributed>=2.18.0->dask-cuda) (2.0.0)\n",
            "Collecting contextvars; python_version < \"3.7\"\n",
            "  Downloading https://files.pythonhosted.org/packages/83/96/55b82d9f13763be9d672622e1b8106c85acb83edd7cc2fa5bc67cd9877e9/contextvars-2.4.tar.gz\n",
            "Requirement already satisfied: tblib>=1.6.0 in /usr/local/lib/python3.6/dist-packages (from distributed>=2.18.0->dask-cuda) (1.7.0)\n",
            "Collecting cloudpickle>=1.5.0\n",
            "  Downloading https://files.pythonhosted.org/packages/e7/e3/898487e5dbeb612054cf2e0c188463acb358167fef749c53c8bb8918cea1/cloudpickle-1.6.0-py3-none-any.whl\n",
            "Requirement already satisfied: sortedcontainers!=2.0.0,!=2.0.1 in /usr/local/lib/python3.6/dist-packages (from distributed>=2.18.0->dask-cuda) (2.3.0)\n",
            "Requirement already satisfied: click>=6.6 in /usr/local/lib/python3.6/dist-packages (from distributed>=2.18.0->dask-cuda) (7.1.2)\n",
            "Requirement already satisfied: pyyaml in /usr/local/lib/python3.6/dist-packages (from distributed>=2.18.0->dask-cuda) (3.13)\n",
            "Requirement already satisfied: toolz>=0.8.2 in /usr/local/lib/python3.6/dist-packages (from distributed>=2.18.0->dask-cuda) (0.11.1)\n",
            "Requirement already satisfied: tornado>=5; python_version < \"3.8\" in /usr/local/lib/python3.6/dist-packages (from distributed>=2.18.0->dask-cuda) (5.1.1)\n",
            "Requirement already satisfied: psutil>=5.0 in /usr/local/lib/python3.6/dist-packages (from distributed>=2.18.0->dask-cuda) (5.4.8)\n",
            "Requirement already satisfied: msgpack>=0.6.0 in /usr/local/lib/python3.6/dist-packages (from distributed>=2.18.0->dask-cuda) (1.0.0)\n",
            "Requirement already satisfied: heapdict in /usr/local/lib/python3.6/dist-packages (from zict>=0.1.3->distributed>=2.18.0->dask-cuda) (1.0.1)\n",
            "Collecting immutables>=0.9\n",
            "\u001b[?25l  Downloading https://files.pythonhosted.org/packages/99/e0/ea6fd4697120327d26773b5a84853f897a68e33d3f9376b00a8ff96e4f63/immutables-0.14-cp36-cp36m-manylinux1_x86_64.whl (98kB)\n",
            "\u001b[K     |████████████████████████████████| 102kB 10.4MB/s \n",
            "\u001b[?25hBuilding wheels for collected packages: contextvars\n",
            "  Building wheel for contextvars (setup.py) ... \u001b[?25l\u001b[?25hdone\n",
            "  Created wheel for contextvars: filename=contextvars-2.4-cp36-none-any.whl size=7666 sha256=51cc95930c99665006e8bd640486f4ae648544e08d529033202619330d5bf1c0\n",
            "  Stored in directory: /root/.cache/pip/wheels/a5/7d/68/1ebae2668bda2228686e3c1cf16f2c2384cea6e9334ad5f6de\n",
            "Successfully built contextvars\n",
            "\u001b[31mERROR: tensorflow-probability 0.11.0 has requirement cloudpickle==1.3, but you'll have cloudpickle 1.6.0 which is incompatible.\u001b[0m\n",
            "Installing collected packages: pynvml, immutables, contextvars, cloudpickle, distributed, dask-cuda\n",
            "  Found existing installation: cloudpickle 1.3.0\n",
            "    Uninstalling cloudpickle-1.3.0:\n",
            "      Successfully uninstalled cloudpickle-1.3.0\n",
            "  Found existing installation: distributed 1.25.3\n",
            "    Uninstalling distributed-1.25.3:\n",
            "      Successfully uninstalled distributed-1.25.3\n",
            "Successfully installed cloudpickle-1.6.0 contextvars-2.4 dask-cuda-0.16.0 distributed-2.30.1 immutables-0.14 pynvml-8.0.4\n"
          ],
          "name": "stdout"
        }
      ]
    },
    {
      "cell_type": "code",
      "metadata": {
        "id": "lsYpjHvbxIyn",
        "colab": {
          "base_uri": "https://localhost:8080/"
        },
        "outputId": "c3af2b72-a942-4924-c2c9-ce9e053df4f7"
      },
      "source": [
        "# Iniciar un clúster y conectar el cliente\n",
        "from dask.distributed import LocalCluster, Client\n",
        "cluster = LocalCluster()\n",
        "client = Client(cluster)\n",
        "#To see where the port of the dashboard is, use this command\n",
        "print(client.scheduler_info()['services'])\n",
        "# {'dashboard': 8787} --> means you can access it at localhost:8787"
      ],
      "execution_count": null,
      "outputs": [
        {
          "output_type": "stream",
          "text": [
            "{'dashboard': 8787}\n"
          ],
          "name": "stdout"
        }
      ]
    },
    {
      "cell_type": "code",
      "metadata": {
        "id": "eempFXqdSM2r",
        "colab": {
          "base_uri": "https://localhost:8080/",
          "height": 176
        },
        "outputId": "2822dd07-ce62-46ff-cde7-f2c710c045d2"
      },
      "source": [
        "from dask.distributed import Client\n",
        "client = Client(n_workers=4, threads_per_worker=4)\n",
        "client"
      ],
      "execution_count": null,
      "outputs": [
        {
          "output_type": "stream",
          "text": [
            "/usr/local/lib/python3.6/dist-packages/distributed/node.py:155: UserWarning: Port 8787 is already in use.\n",
            "Perhaps you already have a cluster running?\n",
            "Hosting the HTTP server on port 43379 instead\n",
            "  http_address[\"port\"], self.http_server.port\n"
          ],
          "name": "stderr"
        },
        {
          "output_type": "execute_result",
          "data": {
            "text/html": [
              "<table style=\"border: 2px solid white;\">\n",
              "<tr>\n",
              "<td style=\"vertical-align: top; border: 0px solid white\">\n",
              "<h3 style=\"text-align: left;\">Client</h3>\n",
              "<ul style=\"text-align: left; list-style: none; margin: 0; padding: 0;\">\n",
              "  <li><b>Scheduler: </b>tcp://127.0.0.1:37773</li>\n",
              "  <li><b>Dashboard: </b><a href='http://127.0.0.1:43379/status' target='_blank'>http://127.0.0.1:43379/status</a></li>\n",
              "</ul>\n",
              "</td>\n",
              "<td style=\"vertical-align: top; border: 0px solid white\">\n",
              "<h3 style=\"text-align: left;\">Cluster</h3>\n",
              "<ul style=\"text-align: left; list-style:none; margin: 0; padding: 0;\">\n",
              "  <li><b>Workers: </b>4</li>\n",
              "  <li><b>Cores: </b>16</li>\n",
              "  <li><b>Memory: </b>13.65 GB</li>\n",
              "</ul>\n",
              "</td>\n",
              "</tr>\n",
              "</table>"
            ],
            "text/plain": [
              "<Client: 'tcp://127.0.0.1:37773' processes=4 threads=16, memory=13.65 GB>"
            ]
          },
          "metadata": {
            "tags": []
          },
          "execution_count": 3
        }
      ]
    },
    {
      "cell_type": "code",
      "metadata": {
        "id": "DcsXMC4Huw9h"
      },
      "source": [
        "from dask import delayed, compute\n",
        "import dask"
      ],
      "execution_count": null,
      "outputs": []
    },
    {
      "cell_type": "code",
      "metadata": {
        "id": "sU50mSoIuzjd",
        "colab": {
          "base_uri": "https://localhost:8080/",
          "height": 472
        },
        "outputId": "222c5544-86d3-4704-e611-921d4ea18318"
      },
      "source": [
        "@delayed\n",
        "def square(num):\n",
        "    print(\"square fn:\", num)\n",
        "    print()\n",
        "    return num * num\n",
        "\n",
        "@delayed\n",
        "def sum_list(args):\n",
        "    print(\"sum_list fn:\", args)\n",
        "    return sum(args)\n",
        "\n",
        "items = [1, 2, 3]\n",
        "\n",
        "computation_graph = sum_list([square(i) for i in items])\n",
        "\n",
        "computation_graph.visualize()\n"
      ],
      "execution_count": null,
      "outputs": [
        {
          "output_type": "execute_result",
          "data": {
            "image/png": "[encoded data removed]",
            "text/plain": [
              "<IPython.core.display.Image object>"
            ]
          },
          "metadata": {
            "tags": []
          },
          "execution_count": 5
        }
      ]
    },
    {
      "cell_type": "code",
      "metadata": {
        "id": "npq8_O4SvDxU",
        "colab": {
          "base_uri": "https://localhost:8080/"
        },
        "outputId": "f89c82e4-851c-4347-b95a-2256083b1df7"
      },
      "source": [
        "print(\"Result\", computation_graph.compute())"
      ],
      "execution_count": null,
      "outputs": [
        {
          "output_type": "stream",
          "text": [
            "Result 14\n"
          ],
          "name": "stdout"
        }
      ]
    }
  ]
}