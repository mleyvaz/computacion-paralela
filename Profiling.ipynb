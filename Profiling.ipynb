{
  "nbformat": 4,
  "nbformat_minor": 0,
  "metadata": {
    "colab": {
      "name": "Profiling.ipynb",
      "provenance": [],
      "authorship_tag": "ABX9TyM9TLEPMD9fQNWN+3xW97uw",
      "include_colab_link": true
    },
    "kernelspec": {
      "name": "python3",
      "display_name": "Python 3"
    },
    "language_info": {
      "name": "python"
    }
  },
  "cells": [
    {
      "cell_type": "markdown",
      "metadata": {
        "id": "view-in-github",
        "colab_type": "text"
      },
      "source": [
        "<a href=\"https://colab.research.google.com/github/mleyvaz/computacion-paralela/blob/main/Profiling.ipynb\" target=\"_parent\"><img src=\"https://colab.research.google.com/assets/colab-badge.svg\" alt=\"Open In Colab\"/></a>"
      ]
    },
    {
      "cell_type": "markdown",
      "metadata": {
        "id": "T6MBjfLp9GdK"
      },
      "source": [
        "Perfilado s de memoria\n",
        "El acto de comprobar sistemáticamente el rendimiento en diferentes condiciones se denomina benchmarking.\n",
        "Analizar qué partes de un programa contribuyen al rendimiento total e identificar posibles cuellos de botella es la elaboración de perfiles.\n",
        "Utilizaremos el paquete memory_profiler para hacer un seguimiento del uso de la memoria. Se puede instalar ejecutando el código siguiente en la consola:\n",
        "\n",
        "Traducción realizada con la versión gratuita del traductor www.DeepL.com/Translator"
      ]
    },
    {
      "cell_type": "code",
      "metadata": {
        "colab": {
          "base_uri": "https://localhost:8080/"
        },
        "id": "pDQIUQsd1_nq",
        "outputId": "ebeb2ae7-f5a0-4ca6-8b41-f944a81a562c"
      },
      "source": [
        "pip install memory_profiler"
      ],
      "execution_count": 22,
      "outputs": [
        {
          "output_type": "stream",
          "text": [
            "Requirement already satisfied: memory_profiler in /usr/local/lib/python3.7/dist-packages (0.58.0)\n",
            "Requirement already satisfied: psutil in /usr/local/lib/python3.7/dist-packages (from memory_profiler) (5.4.8)\n"
          ],
          "name": "stdout"
        }
      ]
    },
    {
      "cell_type": "code",
      "metadata": {
        "id": "oYz10bqj6WMz"
      },
      "source": [
        "import numpy as np\n",
        "import dask.array as da\n",
        "from memory_profiler import memory_usage\n",
        "import matplotlib.pyplot as plt"
      ],
      "execution_count": 23,
      "outputs": []
    },
    {
      "cell_type": "code",
      "metadata": {
        "id": "Mo37C--N6YlO"
      },
      "source": [
        "# Numpy\n",
        "def sum_with_numpy():\n",
        "    # Serial implementation\n",
        "    np.arange(10**7).sum()\n",
        "# Dask\n",
        "def sum_with_dask():\n",
        "    # Parallel implementation\n",
        "    work = da.arange(10**7).sum()\n",
        "    work.compute()"
      ],
      "execution_count": 24,
      "outputs": []
    },
    {
      "cell_type": "code",
      "metadata": {
        "colab": {
          "base_uri": "https://localhost:8080/"
        },
        "id": "EIVSbU6M6e01",
        "outputId": "6d0531ce-bb94-48f1-b9f3-db20b901812f"
      },
      "source": [
        "timeDask = %timeit -o  sum_with_dask()\n",
        "time = %timeit -o  sum_with_numpy()\n",
        "print(f\"Tiempo Dask: {timeDask.best}s\")\n",
        "\n",
        "print(f\"Tiempo numpy: {time.best:.4f}s\")"
      ],
      "execution_count": 25,
      "outputs": [
        {
          "output_type": "stream",
          "text": [
            "10 loops, best of 5: 29 ms per loop\n",
            "10 loops, best of 5: 25 ms per loop\n",
            "Tiempo Dask: 0.02895660430001499s\n",
            "Tiempo numpy: 0.0250s\n"
          ],
          "name": "stdout"
        }
      ]
    },
    {
      "cell_type": "code",
      "metadata": {
        "colab": {
          "base_uri": "https://localhost:8080/",
          "height": 278
        },
        "id": "Gx4pUOvI8B-M",
        "outputId": "c83aba93-d65d-48b2-a901-e75a06f5d60c"
      },
      "source": [
        "memory_numpy = memory_usage(sum_with_numpy, interval=0.01)\n",
        "memory_dask = memory_usage(sum_with_dask, interval=0.01)\n",
        "\n",
        "# Plot results\n",
        "plt.plot(memory_numpy, label='numpy')\n",
        "plt.plot(memory_dask, label='dask')\n",
        "plt.xlabel('Time step')\n",
        "plt.ylabel('Memory / MB')\n",
        "plt.legend()\n",
        "plt.show()"
      ],
      "execution_count": 26,
      "outputs": [
        {
          "output_type": "display_data",
          "data": {
            "image/png": "[encoded data removed]",
            "text/plain": [
              "<Figure size 432x288 with 1 Axes>"
            ]
          },
          "metadata": {
            "tags": [],
            "needs_background": "light"
          }
        }
      ]
    },
    {
      "cell_type": "markdown",
      "metadata": {
        "id": "fEEWKMRW9KBa"
      },
      "source": [
        "# Ejercicio realice el perfiladode memoria  de la función en Numpy y en Dask de la s  "
      ]
    },
    {
      "cell_type": "code",
      "metadata": {
        "colab": {
          "base_uri": "https://localhost:8080/"
        },
        "id": "BdfH55cw73Zc",
        "outputId": "dbea8f5a-7272-4943-990e-7de659f1392e"
      },
      "source": [
        "np.arange(10**7).sum()\n",
        "a=[1,2,3]\n",
        "a."
      ],
      "execution_count": 33,
      "outputs": [
        {
          "output_type": "execute_result",
          "data": {
            "text/plain": [
              "49999995000000"
            ]
          },
          "metadata": {
            "tags": []
          },
          "execution_count": 33
        }
      ]
    }
  ]
}