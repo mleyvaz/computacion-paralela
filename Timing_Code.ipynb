{
  "nbformat": 4,
  "nbformat_minor": 0,
  "metadata": {
    "colab": {
      "name": "Timing Code",
      "provenance": [],
      "authorship_tag": "ABX9TyOoJNOc1HG3M2TsKonNbCjT",
      "include_colab_link": true
    },
    "kernelspec": {
      "name": "python3",
      "display_name": "Python 3"
    },
    "language_info": {
      "name": "python"
    }
  },
  "cells": [
    {
      "cell_type": "markdown",
      "metadata": {
        "id": "view-in-github",
        "colab_type": "text"
      },
      "source": [
        "<a href=\"https://colab.research.google.com/github/mleyvaz/computacion-paralela/blob/main/Timing_Code.ipynb\" target=\"_parent\"><img src=\"https://colab.research.google.com/assets/colab-badge.svg\" alt=\"Open In Colab\"/></a>"
      ]
    },
    {
      "cell_type": "code",
      "metadata": {
        "id": "MgKFe97H-A_y"
      },
      "source": [
        "import random\n",
        "import pandas as pd\n",
        "import numpy as np\n",
        "from multiprocessing import  Pool"
      ],
      "execution_count": 12,
      "outputs": []
    },
    {
      "cell_type": "code",
      "metadata": {
        "colab": {
          "base_uri": "https://localhost:8080/"
        },
        "id": "8v7ioLA-BTWb",
        "outputId": "33090b1f-7e29-4eb3-a6a1-2b056cbbbf0e"
      },
      "source": [
        "%%time\n",
        "train_df = pd.read_excel(\"https://raw.githubusercontent.com/mleyvaz/computacion-paralela/main/train2.xlsx\")"
      ],
      "execution_count": 22,
      "outputs": [
        {
          "output_type": "stream",
          "text": [
            "CPU times: user 5.05 s, sys: 109 ms, total: 5.16 s\n",
            "Wall time: 5.4 s\n"
          ],
          "name": "stdout"
        }
      ]
    },
    {
      "cell_type": "code",
      "metadata": {
        "colab": {
          "base_uri": "https://localhost:8080/"
        },
        "id": "Ws8ABYhJD6lh",
        "outputId": "823124d1-6e8f-46ff-c057-64792207267f"
      },
      "source": [
        "%%timeit\n",
        "train_df = pd.read_excel(\"https://raw.githubusercontent.com/mleyvaz/computacion-paralela/main/train2.xlsx\")"
      ],
      "execution_count": 25,
      "outputs": [
        {
          "output_type": "stream",
          "text": [
            "1 loop, best of 5: 4.33 s per loop\n"
          ],
          "name": "stdout"
        }
      ]
    }
  ]
}